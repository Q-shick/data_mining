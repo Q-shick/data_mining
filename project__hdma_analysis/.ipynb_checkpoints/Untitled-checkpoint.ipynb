{
 "cells": [
  {
   "cell_type": "markdown",
   "metadata": {},
   "source": [
    "## HMDA\n",
    "\n",
    "------"
   ]
  },
  {
   "cell_type": "markdown",
   "metadata": {},
   "source": [
    "### Pull and Query Dataset"
   ]
  },
  {
   "cell_type": "code",
   "execution_count": 84,
   "metadata": {},
   "outputs": [],
   "source": [
    "import urllib3, json\n",
    "from pymongo import MongoClient\n",
    "from pprint import pprint\n",
    "\n",
    "import numpy as np\n",
    "import pandas as pd\n",
    "\n",
    "import warnings\n",
    "warnings.filterwarnings('ignore')"
   ]
  },
  {
   "cell_type": "code",
   "execution_count": 76,
   "metadata": {},
   "outputs": [],
   "source": [
    "def pull_dataset(year, state_code, county_code):\n",
    "    http = urllib3.PoolManager()\n",
    "    \n",
    "    # url includes the list of keys\n",
    "    cfpb_url = ('https://api.consumerfinance.gov/data/hmda/slice/hmda_lar.json?&'\n",
    "        '$where=as_of_year='+year+'+AND+((state_code='+state_code+'+AND+county_code+IN+'+county_code+'))&'\n",
    "        '$select=tract_to_msamd_income,rate_spread,population,minority_population,'\n",
    "        'number_of_owner_occupied_units,number_of_1_to_4_family_units,loan_amount_000s,'\n",
    "        'hud_median_family_income,applicant_income_000s,state_name,state_abbr,sequence_number,'\n",
    "        'respondent_id,purchaser_type_name,property_type_name,preapproval_name,owner_occupancy_name,'\n",
    "        'msamd_name,loan_type_name,loan_purpose_name,lien_status_name,hoepa_status_name,edit_status_name,'\n",
    "        'denial_reason_name_3,denial_reason_name_2,denial_reason_name_1,county_name,co_applicant_sex_name,'\n",
    "        'co_applicant_race_name_5,co_applicant_race_name_4,co_applicant_race_name_3,co_applicant_race_name_2,'\n",
    "        'co_applicant_race_name_1,co_applicant_ethnicity_name,census_tract_number,as_of_year,'\n",
    "        'application_date_indicator,applicant_sex_name,applicant_race_name_5,applicant_race_name_4,'\n",
    "        'applicant_race_name_3,applicant_race_name_2,applicant_race_name_1,applicant_ethnicity_name,'\n",
    "        'agency_name,agency_abbr,action_taken_name&$limit=0')\n",
    "    \n",
    "    response = http.request('GET', cfpb_url)\n",
    "    json_data = json.loads(response.data.decode('utf-8'))\n",
    "\n",
    "    return json_data['results']"
   ]
  },
  {
   "cell_type": "code",
   "execution_count": 77,
   "metadata": {},
   "outputs": [
    {
     "data": {
      "text/plain": [
       "<pymongo.results.InsertManyResult at 0x19a33e8c988>"
      ]
     },
     "execution_count": 77,
     "metadata": {},
     "output_type": "execute_result"
    }
   ],
   "source": [
    "st_louis = pull_dataset(\"2017\", \"42\", \"(101)\")\n",
    "\n",
    "client = MongoClient('localhost:27017')\n",
    "db = client.hmda\n",
    "db['st_louis'].insert_many(st_louis)"
   ]
  },
  {
   "cell_type": "code",
   "execution_count": 78,
   "metadata": {
    "scrolled": true
   },
   "outputs": [
    {
     "name": "stdout",
     "output_type": "stream",
     "text": [
      "Number of Cases: 81040\n",
      "\n",
      "<Case Example>\n",
      "{'_id': ObjectId('5bd90852d997355210f1db2a'),\n",
      " 'action_taken_name': 'Loan originated',\n",
      " 'agency_abbr': 'HUD',\n",
      " 'agency_name': 'Department of Housing and Urban Development',\n",
      " 'applicant_ethnicity_name': 'Information not provided by applicant in mail, '\n",
      "                             'Internet, or telephone application',\n",
      " 'applicant_income_000s': 45,\n",
      " 'applicant_race_name_1': 'Information not provided by applicant in mail, '\n",
      "                          'Internet, or telephone application',\n",
      " 'applicant_sex_name': 'Information not provided by applicant in mail, '\n",
      "                       'Internet, or telephone application',\n",
      " 'application_date_indicator': '',\n",
      " 'as_of_year': 2017,\n",
      " 'census_tract_number': '1053.00',\n",
      " 'co_applicant_ethnicity_name': 'No co-applicant',\n",
      " 'co_applicant_race_name_1': 'No co-applicant',\n",
      " 'co_applicant_sex_name': 'No co-applicant',\n",
      " 'county_name': 'St. Louis city',\n",
      " 'hoepa_status_name': 'Not a HOEPA loan',\n",
      " 'hud_median_family_income': 74300,\n",
      " 'lien_status_name': 'Secured by a first lien',\n",
      " 'loan_amount_000s': 120,\n",
      " 'loan_purpose_name': 'Home purchase',\n",
      " 'loan_type_name': 'Conventional',\n",
      " 'minority_population': 93.0199966430664,\n",
      " 'msamd_name': 'St. Louis - MO, IL',\n",
      " 'number_of_1_to_4_family_units': 642,\n",
      " 'number_of_owner_occupied_units': 417,\n",
      " 'owner_occupancy_name': 'Owner-occupied as a principal dwelling',\n",
      " 'population': 2450,\n",
      " 'preapproval_name': 'Preapproval was not requested',\n",
      " 'property_type_name': 'One-to-four family dwelling (other than manufactured '\n",
      "                       'housing)',\n",
      " 'purchaser_type_name': 'Fannie Mae (FNMA)',\n",
      " 'rate_spread': '',\n",
      " 'respondent_id': '7197000003',\n",
      " 'sequence_number': '',\n",
      " 'state_abbr': 'MO',\n",
      " 'state_name': 'Missouri',\n",
      " 'tract_to_msamd_income': 59.40999984741211}\n"
     ]
    }
   ],
   "source": [
    "query_count = db.st_louis.count()\n",
    "query_find_one = db.st_louis.find_one()\n",
    "\n",
    "print(\"Number of Cases:\", query_count)\n",
    "print(\"\\n<Case Example>\")\n",
    "pprint(query_find_one)"
   ]
  },
  {
   "cell_type": "code",
   "execution_count": 79,
   "metadata": {},
   "outputs": [
    {
     "name": "stdout",
     "output_type": "stream",
     "text": [
      "Number of Keys: 36\n",
      "\n",
      "Keys to be dropped for having the same value:\n",
      "['sequence_number', 'application_date_indicator', 'as_of_year']\n"
     ]
    }
   ],
   "source": [
    "def check_disticnt(keys):\n",
    "    one_value_keys = []\n",
    "    for key in keys:\n",
    "        query_distinct = db.st_louis.distinct(key)\n",
    "        if len(query_distinct) == 1:\n",
    "            one_value_keys.append(key)\n",
    "    \n",
    "    return one_value_keys\n",
    "\n",
    "keys = query_find_one\n",
    "print(\"Number of Keys:\", len(keys))\n",
    "print(\"\\nKeys to be dropped for having the same value:\")\n",
    "pprint(check_disticnt(keys))"
   ]
  },
  {
   "cell_type": "code",
   "execution_count": 80,
   "metadata": {},
   "outputs": [],
   "source": [
    "def convert_to_list(query_result, roundup_keys):\n",
    "    doc_list = []\n",
    "    for doc in query_result:\n",
    "        for key in roundup_keys:\n",
    "            try:\n",
    "                doc[key] = round(doc[key], 2)\n",
    "            except:\n",
    "                doc[key] = \"NaN\"\n",
    "        doc_list.append(doc)\n",
    "        \n",
    "    return doc_list"
   ]
  },
  {
   "cell_type": "code",
   "execution_count": 81,
   "metadata": {},
   "outputs": [
    {
     "name": "stdout",
     "output_type": "stream",
     "text": [
      "[{'_id': 'Loan originated', 'amount': 235.84, 'count': 37867, 'income': 120.34},\n",
      " {'_id': 'Application denied by financial institution',\n",
      "  'amount': 126.33,\n",
      "  'count': 14689,\n",
      "  'income': 85.51},\n",
      " {'_id': 'Loan purchased by the institution',\n",
      "  'amount': 194.68,\n",
      "  'count': 13541,\n",
      "  'income': 105.88},\n",
      " {'_id': 'Application withdrawn by applicant',\n",
      "  'amount': 253.22,\n",
      "  'count': 9953,\n",
      "  'income': 171.79},\n",
      " {'_id': 'File closed for incompleteness',\n",
      "  'amount': 350.06,\n",
      "  'count': 3156,\n",
      "  'income': 85.99},\n",
      " {'_id': 'Application approved but not accepted',\n",
      "  'amount': 196.26,\n",
      "  'count': 1833,\n",
      "  'income': 94.03},\n",
      " {'_id': 'Preapproval request denied by financial institution',\n",
      "  'amount': 51.0,\n",
      "  'count': 1,\n",
      "  'income': 13.0}]\n"
     ]
    }
   ],
   "source": [
    "query_action_taken = db.st_louis.aggregate([\n",
    "    {\"$group\": \n",
    "     {\n",
    "        \"_id\": \"$action_taken_name\", \n",
    "        \"count\": {\"$sum\": 1},\n",
    "        \"amount\": {\"$avg\": \"$loan_amount_000s\"},\n",
    "        \"income\": {\"$avg\": \"$applicant_income_000s\"}\n",
    "     }\n",
    "    },\n",
    "    {\"$sort\": {\"count\": -1}}\n",
    "])\n",
    "\n",
    "pprint(convert_to_list(query_action_taken, ['amount', 'income']))"
   ]
  },
  {
   "cell_type": "code",
   "execution_count": 111,
   "metadata": {},
   "outputs": [
    {
     "data": {
      "text/plain": [
       "[{'_id': None,\n",
       "  'count': 37867,\n",
       "  'amount': 235.84,\n",
       "  'income': 120.34,\n",
       "  'case_share': 1.0}]"
      ]
     },
     "execution_count": 111,
     "metadata": {},
     "output_type": "execute_result"
    }
   ],
   "source": [
    "acceptance"
   ]
  },
  {
   "cell_type": "code",
   "execution_count": 112,
   "metadata": {
    "scrolled": true
   },
   "outputs": [],
   "source": [
    "field_val = \"Loan originated\"\n",
    "total_count = db.st_louis.find({\"action_taken_name\": field_val}).count()\n",
    "\n",
    "query_loan_originated = db.st_louis.aggregate([\n",
    "    {\"$match\": {\"action_taken_name\": field_val}},\n",
    "    {\"$group\": {\"_id\": \"$applicant_race_name_1\",\n",
    "                \"count\": {\"$sum\": 1},\n",
    "                \"amount\": {\"$avg\": \"$loan_amount_000s\"},\n",
    "                \"income\": {\"$avg\": \"$applicant_income_000s\"}}\n",
    "    },\n",
    "    {\"$sort\": {\"count\": -1}},\n",
    "    {\"$addFields\": {\"case_share\": {\"$divide\": [\"$count\", total_count]}}}\n",
    "])\n",
    "\n",
    "acceptance = convert_to_list(query_loan_originated, ['amount', 'income', 'case_share'])"
   ]
  },
  {
   "cell_type": "code",
   "execution_count": 113,
   "metadata": {},
   "outputs": [],
   "source": [
    "field_val = \"Application denied by financial institution\"\n",
    "total_count = db.st_louis.find({\"action_taken_name\": field_val}).count()\n",
    "\n",
    "query_loan_originated = db.st_louis.aggregate([\n",
    "    {\"$match\": {\"action_taken_name\": field_val}},\n",
    "    {\"$group\": {\"_id\": \"$applicant_race_name_1\",\n",
    "                \"count\": {\"$sum\": 1},\n",
    "                \"amount\": {\"$avg\": \"$loan_amount_000s\"},\n",
    "                \"income\": {\"$avg\": \"$applicant_income_000s\"}}\n",
    "    },\n",
    "    {\"$sort\": {\"count\": -1}},\n",
    "    {\"$addFields\": {\"case_share\": {\"$divide\": [\"$count\", total_count]}}}\n",
    "])\n",
    "\n",
    "denial = convert_to_list(query_loan_originated, ['amount', 'income', 'case_share'])"
   ]
  },
  {
   "cell_type": "code",
   "execution_count": 114,
   "metadata": {},
   "outputs": [
    {
     "data": {
      "text/html": [
       "<div>\n",
       "<style scoped>\n",
       "    .dataframe tbody tr th:only-of-type {\n",
       "        vertical-align: middle;\n",
       "    }\n",
       "\n",
       "    .dataframe tbody tr th {\n",
       "        vertical-align: top;\n",
       "    }\n",
       "\n",
       "    .dataframe thead th {\n",
       "        text-align: right;\n",
       "    }\n",
       "</style>\n",
       "<table border=\"1\" class=\"dataframe\">\n",
       "  <thead>\n",
       "    <tr style=\"text-align: right;\">\n",
       "      <th></th>\n",
       "      <th></th>\n",
       "      <th>_id</th>\n",
       "      <th>amount</th>\n",
       "      <th>case_share</th>\n",
       "      <th>count</th>\n",
       "      <th>income</th>\n",
       "    </tr>\n",
       "  </thead>\n",
       "  <tbody>\n",
       "    <tr>\n",
       "      <th rowspan=\"7\" valign=\"top\">Accepted</th>\n",
       "      <th>0</th>\n",
       "      <td>White</td>\n",
       "      <td>199.06</td>\n",
       "      <td>0.57</td>\n",
       "      <td>21750</td>\n",
       "      <td>142.07</td>\n",
       "    </tr>\n",
       "    <tr>\n",
       "      <th>1</th>\n",
       "      <td>Black or African American</td>\n",
       "      <td>119.32</td>\n",
       "      <td>0.16</td>\n",
       "      <td>6166</td>\n",
       "      <td>66.45</td>\n",
       "    </tr>\n",
       "    <tr>\n",
       "      <th>2</th>\n",
       "      <td>Information not provided by applicant in mail,...</td>\n",
       "      <td>181.29</td>\n",
       "      <td>0.12</td>\n",
       "      <td>4419</td>\n",
       "      <td>107.35</td>\n",
       "    </tr>\n",
       "    <tr>\n",
       "      <th>3</th>\n",
       "      <td>Asian</td>\n",
       "      <td>194.74</td>\n",
       "      <td>0.07</td>\n",
       "      <td>2794</td>\n",
       "      <td>87.69</td>\n",
       "    </tr>\n",
       "    <tr>\n",
       "      <th>4</th>\n",
       "      <td>Not applicable</td>\n",
       "      <td>995.77</td>\n",
       "      <td>0.07</td>\n",
       "      <td>2494</td>\n",
       "      <td>123.10</td>\n",
       "    </tr>\n",
       "    <tr>\n",
       "      <th>5</th>\n",
       "      <td>American Indian or Alaska Native</td>\n",
       "      <td>110.33</td>\n",
       "      <td>0.00</td>\n",
       "      <td>143</td>\n",
       "      <td>67.50</td>\n",
       "    </tr>\n",
       "    <tr>\n",
       "      <th>6</th>\n",
       "      <td>Native Hawaiian or Other Pacific Islander</td>\n",
       "      <td>175.44</td>\n",
       "      <td>0.00</td>\n",
       "      <td>101</td>\n",
       "      <td>117.02</td>\n",
       "    </tr>\n",
       "    <tr>\n",
       "      <th rowspan=\"7\" valign=\"top\">Denied</th>\n",
       "      <th>0</th>\n",
       "      <td>Black or African American</td>\n",
       "      <td>73.78</td>\n",
       "      <td>0.38</td>\n",
       "      <td>5643</td>\n",
       "      <td>56.30</td>\n",
       "    </tr>\n",
       "    <tr>\n",
       "      <th>1</th>\n",
       "      <td>White</td>\n",
       "      <td>161.88</td>\n",
       "      <td>0.34</td>\n",
       "      <td>4927</td>\n",
       "      <td>127.78</td>\n",
       "    </tr>\n",
       "    <tr>\n",
       "      <th>2</th>\n",
       "      <td>Information not provided by applicant in mail,...</td>\n",
       "      <td>106.86</td>\n",
       "      <td>0.20</td>\n",
       "      <td>2925</td>\n",
       "      <td>72.38</td>\n",
       "    </tr>\n",
       "    <tr>\n",
       "      <th>3</th>\n",
       "      <td>Asian</td>\n",
       "      <td>142.42</td>\n",
       "      <td>0.05</td>\n",
       "      <td>696</td>\n",
       "      <td>86.59</td>\n",
       "    </tr>\n",
       "    <tr>\n",
       "      <th>4</th>\n",
       "      <td>American Indian or Alaska Native</td>\n",
       "      <td>51.81</td>\n",
       "      <td>0.02</td>\n",
       "      <td>230</td>\n",
       "      <td>52.08</td>\n",
       "    </tr>\n",
       "    <tr>\n",
       "      <th>5</th>\n",
       "      <td>Not applicable</td>\n",
       "      <td>1132.82</td>\n",
       "      <td>0.01</td>\n",
       "      <td>189</td>\n",
       "      <td>575.33</td>\n",
       "    </tr>\n",
       "    <tr>\n",
       "      <th>6</th>\n",
       "      <td>Native Hawaiian or Other Pacific Islander</td>\n",
       "      <td>57.76</td>\n",
       "      <td>0.01</td>\n",
       "      <td>79</td>\n",
       "      <td>53.81</td>\n",
       "    </tr>\n",
       "  </tbody>\n",
       "</table>\n",
       "</div>"
      ],
      "text/plain": [
       "                                                          _id   amount  \\\n",
       "Accepted 0                                              White   199.06   \n",
       "         1                          Black or African American   119.32   \n",
       "         2  Information not provided by applicant in mail,...   181.29   \n",
       "         3                                              Asian   194.74   \n",
       "         4                                     Not applicable   995.77   \n",
       "         5                   American Indian or Alaska Native   110.33   \n",
       "         6          Native Hawaiian or Other Pacific Islander   175.44   \n",
       "Denied   0                          Black or African American    73.78   \n",
       "         1                                              White   161.88   \n",
       "         2  Information not provided by applicant in mail,...   106.86   \n",
       "         3                                              Asian   142.42   \n",
       "         4                   American Indian or Alaska Native    51.81   \n",
       "         5                                     Not applicable  1132.82   \n",
       "         6          Native Hawaiian or Other Pacific Islander    57.76   \n",
       "\n",
       "            case_share  count  income  \n",
       "Accepted 0        0.57  21750  142.07  \n",
       "         1        0.16   6166   66.45  \n",
       "         2        0.12   4419  107.35  \n",
       "         3        0.07   2794   87.69  \n",
       "         4        0.07   2494  123.10  \n",
       "         5        0.00    143   67.50  \n",
       "         6        0.00    101  117.02  \n",
       "Denied   0        0.38   5643   56.30  \n",
       "         1        0.34   4927  127.78  \n",
       "         2        0.20   2925   72.38  \n",
       "         3        0.05    696   86.59  \n",
       "         4        0.02    230   52.08  \n",
       "         5        0.01    189  575.33  \n",
       "         6        0.01     79   53.81  "
      ]
     },
     "execution_count": 114,
     "metadata": {},
     "output_type": "execute_result"
    }
   ],
   "source": [
    "pd.concat({'Accepted': pd.DataFrame(acceptance), 'Denied': pd.DataFrame(denial)})"
   ]
  },
  {
   "cell_type": "markdown",
   "metadata": {},
   "source": [
    "------"
   ]
  },
  {
   "cell_type": "markdown",
   "metadata": {},
   "source": [
    "### Transform JSON to CSV"
   ]
  },
  {
   "cell_type": "code",
   "execution_count": null,
   "metadata": {},
   "outputs": [],
   "source": []
  },
  {
   "cell_type": "markdown",
   "metadata": {},
   "source": [
    "------"
   ]
  },
  {
   "cell_type": "markdown",
   "metadata": {},
   "source": [
    "### Preparation"
   ]
  },
  {
   "cell_type": "code",
   "execution_count": null,
   "metadata": {},
   "outputs": [],
   "source": []
  },
  {
   "cell_type": "markdown",
   "metadata": {},
   "source": [
    "------"
   ]
  },
  {
   "cell_type": "code",
   "execution_count": null,
   "metadata": {},
   "outputs": [],
   "source": []
  },
  {
   "cell_type": "markdown",
   "metadata": {},
   "source": [
    "[metadata](https://cfpb.github.io/api/hmda/fields.html)\n",
    "\n",
    "[urllib3 Json](https://urllib3.readthedocs.io/en/latest/user-guide.html)\n",
    "[PyMongo Tutorial](http://api.mongodb.com/python/current/tutorial.html)\n",
    "[MongoDB Insert](https://www.w3schools.com/python/python_mongodb_insert.asp)"
   ]
  }
 ],
 "metadata": {
  "kernelspec": {
   "display_name": "Python 3",
   "language": "python",
   "name": "python3"
  },
  "language_info": {
   "codemirror_mode": {
    "name": "ipython",
    "version": 3
   },
   "file_extension": ".py",
   "mimetype": "text/x-python",
   "name": "python",
   "nbconvert_exporter": "python",
   "pygments_lexer": "ipython3",
   "version": "3.6.3"
  }
 },
 "nbformat": 4,
 "nbformat_minor": 2
}
